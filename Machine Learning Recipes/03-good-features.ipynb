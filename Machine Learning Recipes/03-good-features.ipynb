{
 "cells": [
  {
   "cell_type": "markdown",
   "metadata": {},
   "source": [
    "# 무엇이 좋은 Features인가?"
   ]
  },
  {
   "cell_type": "code",
   "execution_count": 1,
   "metadata": {},
   "outputs": [],
   "source": [
    "import numpy as np\n",
    "import matplotlib.pyplot as plt"
   ]
  },
  {
   "cell_type": "code",
   "execution_count": 2,
   "metadata": {},
   "outputs": [
    {
     "data": {
      "text/plain": [
       "([array([  0.,   1.,   5.,  40., 106., 128., 108.,  81.,  25.,   6.]),\n",
       "  array([  5.,  13.,  56., 155., 242., 230., 164., 101.,  28.,   6.])],\n",
       " array([11.09274264, 13.97967677, 16.86661091, 19.75354505, 22.64047918,\n",
       "        25.52741332, 28.41434746, 31.30128159, 34.18821573, 37.07514987,\n",
       "        39.962084  ]),\n",
       " <a list of 2 Lists of Patches objects>)"
      ]
     },
     "execution_count": 2,
     "metadata": {},
     "output_type": "execute_result"
    },
    {
     "data": {
      "image/png": "[encoded data removed]",
      "text/plain": [
       "<Figure size 432x288 with 1 Axes>"
      ]
     },
     "metadata": {
      "needs_background": "light"
     },
     "output_type": "display_data"
    }
   ],
   "source": [
    "# Number of Dogs\n",
    "greyhounds = 500\n",
    "labs = 500\n",
    "\n",
    "# Feature 1: Height\n",
    "grey_height = 28 + 4 * np.random.randn(greyhounds)\n",
    "lab_height = 24 + 4 * np.random.randn(labs)\n",
    "\n",
    "plt.hist([grey_height, lab_height], stacked=True, color=['r', 'b'])"
   ]
  },
  {
   "cell_type": "markdown",
   "metadata": {},
   "source": [
    "- height가 20보다 작으면 래브라도일 확률이 높고 \n",
    "- height가 30보다 크면 그레이하운드일 확률이 높지만\n",
    "- height가 25인 경우에는 정확히 예측할 수 없다.\n",
    "\n",
    "> feature가 더 필요하다!\n",
    "> - **Informative** : 특징지을 수 없는 feature는 무의미하다.\n",
    "> - **Independent** : features가 서로 독립적이어야 한다.\n",
    "> - **Simple** : 알기 쉬워야 한다. (e.g. 거리(O), 위도 및 경도(X))"
   ]
  }
 ],
 "metadata": {
  "kernelspec": {
   "display_name": "Python 3",
   "language": "python",
   "name": "python3"
  },
  "language_info": {
   "codemirror_mode": {
    "name": "ipython",
    "version": 3
   },
   "file_extension": ".py",
   "mimetype": "text/x-python",
   "name": "python",
   "nbconvert_exporter": "python",
   "pygments_lexer": "ipython3",
   "version": "3.6.10"
  }
 },
 "nbformat": 4,
 "nbformat_minor": 4
}
